{
  "nbformat": 4,
  "nbformat_minor": 0,
  "metadata": {
    "colab": {
      "name": "Project_DSI200.ipynb",
      "provenance": [],
      "collapsed_sections": [],
      "include_colab_link": true
    },
    "kernelspec": {
      "name": "python3",
      "display_name": "Python 3"
    },
    "language_info": {
      "name": "python"
    }
  },
  "cells": [
    {
      "cell_type": "markdown",
      "metadata": {
        "id": "view-in-github",
        "colab_type": "text"
      },
      "source": [
        "<a href=\"https://colab.research.google.com/github/siwakornnitkit/NewTop/blob/master/Project_DSI200.ipynb\" target=\"_parent\"><img src=\"https://colab.research.google.com/assets/colab-badge.svg\" alt=\"Open In Colab\"/></a>"
      ]
    },
    {
      "cell_type": "markdown",
      "metadata": {
        "id": "qcrKdWBB1WXe"
      },
      "source": [
        "> สมาชิก\n",
        "\n",
        "\n",
        "\n",
        "---\n",
        "\n",
        "\n",
        "1.วิชัย มาเจริญ        6424650379   \n",
        "2.ศิวกร นิตย์กิจสมบูรณ์  6424650395  \n",
        "3.วรดนัย วงษ์มณี      6424650189  \n",
        "4.ศุภิสรา ประสงค์สุข   6424650437"
      ]
    },
    {
      "cell_type": "markdown",
      "metadata": {
        "id": "gYFyXcoVVLDp"
      },
      "source": [
        "\n",
        "**คำนำ**\n",
        "\n",
        "\n",
        "      รายงานเล่มนี้จัดทำขึ้นเพื่อเป็นส่วนหนึ่งของรายวิชา DSI200 โดยมีจุดประสงค์เพื่อวิเคราะห์ข้อมูลตามที่ได้รับมอบหมาย\n",
        "\n",
        "\n"
      ]
    },
    {
      "cell_type": "markdown",
      "metadata": {
        "id": "p7qupXNbheD4"
      },
      "source": [
        "# **จุดประสงค์**\n",
        "\n",
        "\n",
        "จุดประสงค์ในการสร้าง Data Visualization คือ การนำข้อมูลแบบสอบถามของนักศึกษาจาก urlมาวิเคราะห์หาจุดบกพร่องในการสอนของวิชาหรือ\n",
        "Sec นั้น ๆ เพื่อนำไปปรับปรุงแก้ไขและนำไปพยากรณ์ถึงคะแนนเฉลี่ยที่จะได้ในอนาคต หรือแม้จะหาสิ่งที่นักศึกษาที่ร่วมทำแบบประเมินต้องการการเรียนการสอนแบบใด อีกทั้งยังมีข้อมูลแบบสอบถามในปีที่มีการแพร่ระบาดของ Covid-19 เพื่อมาวิเคราะห์การเตรียมความพร้อมในการรับมือกับสถานการณ์นี้ เป็นไปได้อย่างราบรื่นหรือบกพร่องตรงไหนก็สามารถนำไปปรับปรุงในเทอมต่อมาได้"
      ]
    },
    {
      "cell_type": "markdown",
      "metadata": {
        "id": "JVnNKK9uCJU3"
      },
      "source": [
        "\n",
        "### **สารบัญ**\n",
        "---\n",
        "\n",
        "###    1.อธิบายข้อมูลแต่ละรายวิชา\n",
        "*   มีการประเมินมาแล้วกี่รอบและในแต่ละรายวิชามีการประเมินกี่ครั้ง\n",
        "*   มีผู้ร่วมทำแบบทดสอบกี่คน\n",
        "*   จำนวนวิชาทั้งหมด\n",
        "*   ค่าเฉลี่ยรวมของสถานการณ์ทั่วไปและในช่วง Covid\n",
        "\n",
        "\n",
        "###    2.นักศึกษาให้ความสนใจกับการประเมินมาก-น้อยเพียงใด\n",
        "\n",
        "\n",
        "###    3.การพัฒนาของแต่ละรายวิชาในการประเมินแบบสถานการณ์ปกติ\n",
        "\n",
        "\n",
        "*   เปรียบเทียบนักศึกษาที่ลงทะเบียนกับจำนวนผู้ที่ทำแบบประเมิน\n",
        "*   แต่ละรายวิชาเติบโตไปในทิศทางใด\n",
        "*   ในหนึ่งปีการศึกษามีวิชาใดได้รับการประเมินสูง\n",
        "\n",
        "\n",
        "###    4.ในแต่ละวิชามีความเตรียมพร้อมในการรับมือกับรูปแบบการสอนในช่วง Covid มาก-น้อยเพียงใด"
      ]
    },
    {
      "cell_type": "markdown",
      "metadata": {
        "id": "zDnOBncrvRMw"
      },
      "source": [
        "นี่คือcode ในการดึงข้อมูลจาก web page จำนวน 19 เว็ปไซต์"
      ]
    },
    {
      "cell_type": "code",
      "metadata": {
        "id": "A_uYDvIjvmqq"
      },
      "source": [
        "import requests\n",
        "from bs4 import BeautifulSoup\n",
        "import matplotlib.pyplot as plt\n",
        "import numpy as np\n",
        "\n",
        "main_url = 'https://sgulyano.github.io/eval/'\n",
        "html_url = ['01888961.html', \n",
        "            '34765352.html', \n",
        "            '59077969.html', \n",
        "            '87385371.html',\n",
        "            '94578503.html',\n",
        "            '09934285.html',\n",
        "            '35676402.html',\n",
        "            '63740399.html',\n",
        "            '87545994.html',\n",
        "            '95850887.html',\n",
        "            '16585447.html',\n",
        "            '57138607.html',\n",
        "            '69893123.html',\n",
        "            '89244427.html',\n",
        "            '98742007.html',\n",
        "            '33737452.html',\n",
        "            '58806234.html',\n",
        "            '83499032.html',\n",
        "            '90151389.html']\n",
        "eval_url = [main_url + url for url in html_url]\n",
        "\n",
        "def get_table_data(item):  #การดึงข้อมูล\n",
        "    data = []\n",
        "    table_body = item.find('tbody')\n",
        "    rows = table_body.find_all('tr')\n",
        "    for row in rows:\n",
        "        cols = row.find_all('td')\n",
        "        cols = [ele.text.strip() for ele in cols]\n",
        "        data.append([ele for ele in cols if ele])\n",
        "    return data\n",
        "\n",
        "all_info = []\n",
        "all_ratings = []\n",
        "\n",
        "for url in eval_url:   #สรุป\n",
        "    r = requests.get(url)\n",
        "    soup = BeautifulSoup(r.content, \"html.parser\")\n",
        "    tables = soup.find_all(\"table\")\n",
        "\n",
        "    all_info.append(get_table_data(tables[0]))\n",
        "    all_ratings.append(get_table_data(tables[2]))\n",
        "data = all_info,all_ratings"
      ],
      "execution_count": null,
      "outputs": []
    },
    {
      "cell_type": "markdown",
      "metadata": {
        "id": "-8IswPEMwPt4"
      },
      "source": [
        "1.อธิบายข้อมูลแต่ละรายวิชา "
      ]
    },
    {
      "cell_type": "code",
      "metadata": {
        "id": "7mV98ysJ9KCh",
        "colab": {
          "base_uri": "https://localhost:8080/"
        },
        "outputId": "137658f4-15a8-4f7a-a3f2-a747fabac41d"
      },
      "source": [
        "\n",
        "# มีการประเมินมาแล้วกี่รอบและในแต่ละรายวิชามีการประเมินกี่ครั้ง\n",
        "a = []\n",
        "count = {}\n",
        "for i in range(len(html_url)):   #เป็นการดึงชื่อวิชาของแต่ละเว็ปไซต์ \n",
        "    a.append(data[0][i][0][1])     #ตำแหน่ง data[a][b][c][d] aคือเลือกส่วน all_info หรือ all_ratings bคือเลขลำดับของurl cลำดับcolumn dลำดับrow\n",
        "\n",
        "\n",
        "for i in a:\n",
        "    count[i]=count.get(i,0)+1  #การนับจำนวนวิชาว่าแต่ละวิชามีจำนวนกี่ลิ้ง\n",
        "\n",
        "print('All:',len(html_url)) \n",
        "print(count)\n",
        "\n",
        "\n",
        "# มีผู้ร่วมทำแบบทดสอบกี่คน\n",
        "\n",
        "membernormal = []\n",
        "m = []\n",
        "for i in range(len(html_url)):\n",
        "    membernormal.append([data[0][i][5][1], i]) #ดึงข้อมูลว่ามีคนเข้าร่วมทำแบบสอบถามกี่คนของทุกเว็ปไซต์\n",
        "\n",
        "for a in range(len(html_url)):\n",
        "    n = int(membernormal[a][0].split()[0])   ##เนื่องจากข้อมูลบ่งบอกถึงเปอร์เซ็นการเข้าร่วม เราจึงใช้คำสั่ง split เพื่อเอาเฉพาะตัวหน้า\n",
        "    m.append(n)\n",
        "print(\"participants=\", sum(m))   ##การหาผลรวมของlistข้างต้น\n",
        "\n",
        "\n",
        "# จำนวนวิชาทั้งหมด\n",
        "subject = []\n",
        "for i in range(len(html_url)):\n",
        "    if data[0][i][0][1] not in subject: #การตัดวิชาที่ซ้ำทิ้งออก\n",
        "        subject.append(data[0][i][0][1])\n",
        "    else:\n",
        "        pass\n",
        "print(\"Subject=\",subject)\n",
        "\n",
        "\n",
        "xbarnormal = []\n",
        "xbarcovid = []\n",
        "for i in range(len(html_url)):\n",
        "    if len(data[1][i][4][1]) < 17: ##เนื่องจากเราต้องแยกการประเมินแบบnormalและแบบcovid ออกจากกัน เราเห็นข้อแตกต่างระหว่างทั้ง2คือ ตัวที่ data[1][i][4][1] ถ้าหากเป็นแบบ ธรรมดาจะมีจำนวนตัวอักษรมากกว่า17ตัว\n",
        "        xbarnormal.append(data[1][i][-1][-2])   \n",
        "    else:  ##และแบบcovidมีอักษรน้อยกว่า17ตัว\n",
        "        xbarcovid.append(data[1][i][-1][-2]) \n",
        "\n",
        "# ค่าเฉลี่ยรวมของสถานการณ์ทั่วไปและในช่วง Covid\n",
        "tfxbarnormal = []\n",
        "for a in xbarnormal:\n",
        "    tfxbarnormal.append(float(a))\n",
        "print('X-bar of normal evaluationmean normal=', sum(tfxbarnormal)/len(xbarnormal))  ##การหาค่าเฉลี่ยของแต่ละตัว โดยการนำผลรวมของx-barมาหารจำนวนทั้งหมด\n",
        "\n",
        "tfxbarcovid = []\n",
        "for b in xbarcovid:\n",
        "    tfxbarcovid.append(float(b))\n",
        "print('X-bar of Covid-19 evaluation=', sum(tfxbarcovid)/len(xbarcovid))\n",
        "\n",
        "\n",
        "\n"
      ],
      "execution_count": null,
      "outputs": [
        {
          "output_type": "stream",
          "name": "stdout",
          "text": [
            "All: 19\n",
            "{'ryoivricfq': 3, 'bbdfmowkmw': 5, 'nxwvugfpvk': 4, 'ifryvhdgto': 2, 'tqkcxncfqb': 2, 'thwqmxkbbs': 1, 'liprvrawzt': 1, 'eguuthmvfq': 1}\n",
            "participants= 677\n",
            "Subject= ['ryoivricfq', 'bbdfmowkmw', 'nxwvugfpvk', 'ifryvhdgto', 'tqkcxncfqb', 'thwqmxkbbs', 'liprvrawzt', 'eguuthmvfq']\n",
            "X-bar of normal evaluationmean normal= 4.237272727272727\n",
            "X-bar of Covid-19 evaluation= 4.28125\n"
          ]
        }
      ]
    },
    {
      "cell_type": "markdown",
      "metadata": {
        "id": "j2bwmvN8DloD"
      },
      "source": [
        "2.นักศึกษาให้ความสนใจกับการประเมินมาก-น้อยเพียงใด"
      ]
    },
    {
      "cell_type": "code",
      "metadata": {
        "id": "wSm_X8cBtguh",
        "colab": {
          "base_uri": "https://localhost:8080/"
        },
        "outputId": "5f59a0e8-1832-45f6-8368-20b0f027e0af"
      },
      "source": [
        "\n",
        "# ขั้นตอนการหาจำนวนนักศึกษาทั้งหมด นักศึกษาที่ทำการประเมิน และ นักศึกษาที่ไม่ได้ทำแบบประเมิน\n",
        "memberall = []\n",
        "m = []\n",
        "for i in range(len(html_url)):\n",
        "    memberall.append([data[0][i][5][1], i])  #การดึงข้อมูลจำนวนนักเรียนที่ทำแบบสอบถาม\n",
        "\n",
        "for a in range(len(html_url)):\n",
        "    n = int(memberall[a][0].split()[0])  ##เนื่องจากข้อมูลบ่งบอกถึงเปอร์เซ็นการเข้าร่วม เราจึงใช้คำสั่ง split เพื่อเอาเฉพาะตัวหน้า\n",
        "    m.append(n)\n",
        "\n",
        "permemberall = []\n",
        "studentall = []\n",
        "g = []\n",
        "\n",
        "for w in range(len(html_url)):\n",
        "    studentall.append(int(data[0][w][4][1]))   ##การดึงข้อมูลของนักเรียนทั้ง รวมถึงนักเรียนที่ไม่ได้ทำแบบประเมินด้วย\n",
        "\n",
        "permemberall =  sum(m)/sum(studentall)*100    ##การหาค่าว่าจำนวนนักศึกษามีเปอร์เซ็นการเข้าร่วมของทั้ง19เว็ปไซต์เท่าไหร่ โดยคิดจาก ผลรวมของนักเรียนที่่ทำประเมิน/จำนวนนักเรียนทั้งหมด * 100\n",
        "\n",
        "\n",
        "print(\"มีจำนวนนักศึกษาที่จดทะเบียนทั้งหมด=\", sum(studentall))\n",
        "print(\"มีจำนวนนักศึกษาที่ประเมิน=\", sum(m))\n",
        "print(\"มีนักเรียนที่ไม่ได้ทำแบบประเมินทั้งหมด\" , sum(studentall)-sum(m), \"คน\")\n",
        "print(\"คิดเป็น\", \"%.3f\" %permemberall , \"ของจำนวนนักศึกษา\")\n"
      ],
      "execution_count": null,
      "outputs": [
        {
          "output_type": "stream",
          "name": "stdout",
          "text": [
            "มีจำนวนนักศึกษาที่จดทะเบียนทั้งหมด= 2537\n",
            "มีจำนวนนักศึกษาที่ประเมิน= 677\n",
            "มีนักเรียนที่ไม่ได้ทำแบบประเมินทั้งหมด 1860 คน\n",
            "คิดเป็น 26.685 ของจำนวนนักศึกษา\n"
          ]
        }
      ]
    },
    {
      "cell_type": "code",
      "metadata": {
        "id": "V9VOut_OwS3X",
        "colab": {
          "base_uri": "https://localhost:8080/",
          "height": 282
        },
        "outputId": "201d33d5-d370-4724-e6d8-b80a3e15bdc2"
      },
      "source": [
        "##การทำ pie เพื่อแสดงร้อยละจำนวนนักเรียนที่ทำแบบประเมินและไม่ได้ทำแบบประเมิน\n",
        "x = [677,1860]  ##ประกอบด้วยจำนวนนักเรียนที่ทำแบบประเมิน และนักเรียนที่ไม่ได้ทำแบบประเมิน\n",
        "y = [\"Participants\",\"Not Participant\"]\n",
        "\n",
        "print(\"participants = \",x[0],\" people\")\n",
        "print(\"not participant = \",x[1],\" people\")\n",
        "\n",
        "exp = [0.25,0] ##ทำให้ส่วนนักศึกษาที่ทำการประเมินเด้งออกมาข้างนอก\n",
        "color = [\"yellow\",\"pink\"] ##ใส่สีในpie\n",
        "plt.pie(x,labels=y,autopct=\"%.3f\",colors=color,explode=exp) ##การใส่ข้อมูลลงไปในpie ใช้เป็นร้อยละและทศนิยม 3 ตำแหน่ง\n",
        "plt.show()"
      ],
      "execution_count": null,
      "outputs": [
        {
          "output_type": "stream",
          "name": "stdout",
          "text": [
            "participants =  677  people\n",
            "not participant =  1860  people\n"
          ]
        },
        {
          "output_type": "display_data",
          "data": {
            "image/png": "[encoded data removed]",
            "text/plain": [
              "<Figure size 432x288 with 1 Axes>"
            ]
          },
          "metadata": {}
        }
      ]
    },
    {
      "cell_type": "markdown",
      "metadata": {
        "id": "W7PzWQbhETEC"
      },
      "source": [
        "3.การพัฒนาของแต่ละรายวิชาในการประเมินแบบสถานการณ์ปกติ"
      ]
    },
    {
      "cell_type": "code",
      "metadata": {
        "colab": {
          "base_uri": "https://localhost:8080/"
        },
        "id": "V0ktpAsea85T",
        "outputId": "76dfdd4c-5413-4ce5-d3fa-101352718ad9"
      },
      "source": [
        "\n",
        "##เป็นโค้ดที่ทำให้พวกเราเห็นข้อมูลที่ต้องในทั้ง13เว็ปไซต์โดยง่าย โดยการเรียงออกมา\n",
        "\n",
        "xbar_normal = []  \n",
        "xbar_covid = []\n",
        "\n",
        "for i in range(len(html_url)):\n",
        "    if len(data[1][i][4][1]) < 17: \n",
        "        xbar_normal.append([(data[0][i][0][1]),(data[0][i][2][1]).split(\"/\")[::-1],(data[1][i][-1][-2]), i ])\n",
        "    else:\n",
        "        xbar_covid.append([(data[0][i][0][1]),(data[0][i][2][1]).split(\"/\")[::-1],(data[1][i][12][-2]), i ])\n",
        "print('normal')\n",
        "for i in sorted(xbar_normal):\n",
        "    print(i)\n",
        "print('covid')\n",
        "for i in sorted(xbar_covid):\n",
        "    print(i)\n",
        "\n",
        "##ข้อมูลที่เรียงตามปีแล้ว\n"
      ],
      "execution_count": null,
      "outputs": [
        {
          "output_type": "stream",
          "name": "stdout",
          "text": [
            "normal\n",
            "['bbdfmowkmw', ['2562', '1'], '4.19', 1]\n",
            "['eguuthmvfq', ['2562', '2'], '4.09', 15]\n",
            "['ifryvhdgto', ['2561', '2'], '4.45', 3]\n",
            "['liprvrawzt', ['2563', '1'], '4.35', 11]\n",
            "['nxwvugfpvk', ['2561', '2'], '4.17', 9]\n",
            "['nxwvugfpvk', ['2562', '1'], '4.07', 2]\n",
            "['ryoivricfq', ['2561', '2'], '4.04', 5]\n",
            "['ryoivricfq', ['2562', '1'], '4.44', 12]\n",
            "['ryoivricfq', ['2563', '1'], '3.81', 0]\n",
            "['tqkcxncfqb', ['2563', '1'], '4.42', 18]\n",
            "['tqkcxncfqb', ['2563', '1'], '4.58', 7]\n",
            "covid\n",
            "['bbdfmowkmw', ['2562', '2'], '4.15', 17]\n",
            "['bbdfmowkmw', ['2563', '2'], '4.25', 6]\n",
            "['bbdfmowkmw', ['2563', '2'], '4.35', 14]\n",
            "['bbdfmowkmw', ['2563', '2'], '4.60', 10]\n",
            "['ifryvhdgto', ['2563', '2'], '4.52', 4]\n",
            "['nxwvugfpvk', ['2562', '2'], '3.52', 13]\n",
            "['nxwvugfpvk', ['2563', '2'], '4.48', 16]\n",
            "['thwqmxkbbs', ['2563', '2'], '4.38', 8]\n"
          ]
        }
      ]
    },
    {
      "cell_type": "code",
      "metadata": {
        "id": "6ogyufPNfDBG",
        "colab": {
          "base_uri": "https://localhost:8080/",
          "height": 608
        },
        "outputId": "4d2eda36-6a81-4e47-c759-29df24dfb529"
      },
      "source": [
        "\n",
        "# เปรียบเทียบนักศึกษาที่ลงทะเบียนกับจำนวนผู้ที่ทำแบบประเมิน(%)\n",
        "print('ตัวอย่างวิชา ryoivricfq (รวมทุก sec)')\n",
        "ryo_term = []\n",
        "ryo_per = []\n",
        "sort_ryo_term = []\n",
        "real_ryo_per =[]\n",
        "w = []\n",
        "for i in range(len(html_url)):  \n",
        "    if data[0][i][0][1] == 'ryoivricfq':  ##การเลือกดึงข้อมูลเฉพาะวิชาryoivricfqเท่านั้น\n",
        "        ryo_term.append((data[0][i][2][1]).split(\"/\")[::-1]) ##แยกระหว่างเทอมกับปีและเรียงกลับย้อนหลัง เพื่อจะทำให้มันเรียงตามลำดับได้\n",
        "        w = sorted(ryo_term)  #การเรียงลำดับข้อมูลตามปีโดยใช้ sorted\n",
        "        ryo_per.append(data[0][i][5][1].split(\" \")) ##เนื่องจากข้อมูลตัวdata[0][i][5][1] ติดกันเราจึงแยกกันโดยใช้คำสั่งsplit\n",
        "\n",
        "for a in range(len(ryo_term)):\n",
        "    sort_ryo_term.append(\"/\".join(w[a]))  ##หลังจากเรียงข้อมูลเสร็จแล้ว จึงใช้คำสั่งjoin และเครื่องหมาย\"/\" เพื่อรวม ทั้งสองเข้าด้วยกัน\n",
        "    \n",
        "for b in range(len(ryo_per)):\n",
        "    real_ryo_per.append(float(ryo_per[b][1].strip(\"()%\")))  ##ต้องการเฉพาะเปอร์เซ็นการเข้าร่วม จึงเลือกตำแหน่่งที่ 1 และตัดเครื่องหมาย \"()%\" และเปลี่ยนข้อม฿ลเป็นfloat เพื่อที่จะพลอตได้\n",
        "    \n",
        "    \n",
        "# print(real_ryo_per)\n",
        "# print(sort_ryo_term)\n",
        "\n",
        "xryo=np.array(real_ryo_per)  ##เนื่องจากmatplotlibต้องใช้ชุดเลขarray จึงต้องเปลี่ยน listให้กลายเป็น arrayเสียก่อน\n",
        "yryo=np.array(sort_ryo_term)\n",
        "\n",
        "plt.plot(yryo,xryo,color=\"#D02090\")  ##เป็นส่วนของการสร้างกราฟเส้น\n",
        "plt.xlabel(\"term\")\n",
        "plt.ylabel(\"percent\")\n",
        "plt.title(\"ryoivricfq\")\n",
        "plt.show()\n",
        "\n",
        "\n",
        "print('ตัวอย่างวิชา bbdfmowkmw (sec:zwsgaqcugj )')  ##เหมือนข้างบนแต่เป็นวิชาbbdfmowkmw (sec:zwsgaqcugj )\n",
        "bbd_term = []\n",
        "bbd_per = []\n",
        "sort_bbd_term = []\n",
        "real_bbd_per =[]\n",
        "e = []\n",
        "\n",
        "for i in range(len(html_url)):\n",
        "    if data[0][i][0][1] == 'bbdfmowkmw'and data[0][i][1][1] == \"zwsgaqcugj\" :\n",
        "        bbd_term.append((data[0][i][2][1]).split(\"/\")[::-1])\n",
        "        e = sorted(bbd_term)\n",
        "        bbd_per.append(data[0][i][5][1].split(\" \"))\n",
        "        \n",
        "for a in range(len(bbd_term)):\n",
        "    sort_bbd_term.append(\"/\".join(e[a]))\n",
        "    \n",
        "for b in range(len(bbd_per)):\n",
        "    real_bbd_per.append(float(bbd_per[b][1].strip(\"()%\")))\n",
        "    \n",
        "    \n",
        "# print(real_bbd_per)\n",
        "# print(sort_bbd_term)\n",
        "\n",
        "xbbd=np.array(real_bbd_per)\n",
        "ybbd=np.array(sort_bbd_term)\n",
        "\n",
        "plt.plot(ybbd,xbbd,color=\"#40E0D0\")\n",
        "plt.xlabel(\"term\")\n",
        "plt.ylabel(\"percent\")\n",
        "plt.title(\"bbdfmowkmw sec:zwsgaqcugj\")\n",
        "plt.show()\n",
        "\n"
      ],
      "execution_count": null,
      "outputs": [
        {
          "output_type": "stream",
          "name": "stdout",
          "text": [
            "ตัวอย่างวิชา ryoivricfq (รวมทุก sec)\n"
          ]
        },
        {
          "output_type": "display_data",
          "data": {
            "image/png": "[encoded data removed]",
            "text/plain": [
              "<Figure size 432x288 with 1 Axes>"
            ]
          },
          "metadata": {
            "needs_background": "light"
          }
        },
        {
          "output_type": "stream",
          "name": "stdout",
          "text": [
            "ตัวอย่างวิชา bbdfmowkmw (sec:zwsgaqcugj )\n"
          ]
        },
        {
          "output_type": "display_data",
          "data": {
            "image/png": "[encoded data removed]",
            "text/plain": [
              "<Figure size 432x288 with 1 Axes>"
            ]
          },
          "metadata": {
            "needs_background": "light"
          }
        }
      ]
    },
    {
      "cell_type": "code",
      "metadata": {
        "id": "aqAolZxafN0H",
        "colab": {
          "base_uri": "https://localhost:8080/",
          "height": 660
        },
        "outputId": "9e673e61-07dc-4002-9fac-d7a9ae6f8341"
      },
      "source": [
        "#แต่ละรายวิชาเติบโตไปในทิศทางใด\n",
        "real_xbar_ryo = []\n",
        "sort_term_ryo = []\n",
        "xbar_ryo = []\n",
        "term_ryo = []\n",
        "for a in range(len(html_url)):\n",
        "    if data[0][a][0][1] == \"ryoivricfq\" and len(data[1][a][4][1]) < 17 : #เป็นการเลือกดึงข้อมูลเฉพาะวิชาryoivricfq และเป็นแบบประเมินปรกติ\n",
        "        xbar_ryo.append(data[1][a][-1][-2]) #การดึงข้อมูล x-bar\n",
        "        term_ryo.append(data[0][a][2][1].split(\"/\")[::-1])  ##แยกระหว่างเทอมกับปีและเรียงกลับย้อนหลัง เพื่อจะทำให้มันเรียงตามลำดับได้\n",
        "    else:\n",
        "        pass\n",
        "\n",
        "for b in range(len(xbar_ryo)):\n",
        "    real_xbar_ryo.append(float(xbar_ryo[b])) ##เปลี่ยนเป็น float เพื่อที่จะได้ พลอตกราฟได้\n",
        "\n",
        "print(real_xbar_ryo)\n",
        "\n",
        "for a in range(len(term_ryo)):\n",
        "    sort_term_ryo.append(\"/\".join(term_ryo[a]))  ##หลังจากเรียงข้อมูลเสร็จแล้ว จึงใช้คำสั่งjoin และเครื่องหมาย\"/\" เพื่อรวม ทั้งสองเข้าด้วยกัน\n",
        "\n",
        "sort_term_ryo = sorted(sort_term_ryo) #เรียงตามเทอมและปีการศึกษา\n",
        "print(sort_term_ryo)\n",
        "\n",
        "x_ryo=np.array(real_xbar_ryo)  ##เนื่องจากmatplotlibต้องใช้ชุดเลขarray จึงต้องเปลี่ยน listให้กลายเป็น arrayเสียก่อน\n",
        "y_ryo=np.array(sort_term_ryo)\n",
        "\n",
        "plt.plot(y_ryo,x_ryo,color=\"b\") ##เป็นส่วนของการสร้างกราฟเส้น\n",
        "plt.xlabel(\"term\")\n",
        "plt.ylabel(\"x-bar\")\n",
        "plt.title(\"ryo\")\n",
        "plt.show()\n",
        "\n",
        "print(\"--------------------------------------\")\n",
        "\n",
        "real_xbar_nxw = []  ##เหมือนข้างบนแต่เป็นวิชา nxwvugfpvk\n",
        "sort_term_nxw = []\n",
        "xbar_nxw = []\n",
        "term_nxw = []\n",
        "for a in range(len(html_url)):\n",
        "    if data[0][a][0][1] == \"nxwvugfpvk\" and len(data[1][a][4][1]) < 17:\n",
        "        xbar_nxw.append(data[1][a][-1][-2])\n",
        "        term_nxw.append(data[0][a][2][1].split(\"/\")[::-1])\n",
        "        \n",
        "    else:\n",
        "        pass\n",
        "\n",
        "for b in range(len(xbar_nxw)):\n",
        "        real_xbar_nxw.append(float(xbar_nxw[b]))\n",
        "\n",
        "print(real_xbar_nxw)\n",
        "                \n",
        "\n",
        "for a in range(len(term_nxw)):\n",
        "    sort_term_nxw.append(\"/\".join(term_nxw[a]))\n",
        "\n",
        "sort_term_nxw = sorted(sort_term_nxw)\n",
        "print(sort_term_nxw)\n",
        "\n",
        "x_nxw=np.array(real_xbar_nxw)\n",
        "y_nxw=np.array(sort_term_nxw)\n",
        "\n",
        "plt.plot(y_nxw,x_nxw,color=\"m\")\n",
        "plt.xlabel(\"term\")\n",
        "plt.ylabel(\"x-bar\")\n",
        "plt.title(\"nxw\")\n",
        "plt.show()\n"
      ],
      "execution_count": null,
      "outputs": [
        {
          "output_type": "stream",
          "name": "stdout",
          "text": [
            "[3.81, 4.04, 4.44]\n",
            "['2561/2', '2562/1', '2563/1']\n"
          ]
        },
        {
          "output_type": "display_data",
          "data": {
            "image/png": "[encoded data removed]",
            "text/plain": [
              "<Figure size 432x288 with 1 Axes>"
            ]
          },
          "metadata": {
            "needs_background": "light"
          }
        },
        {
          "output_type": "stream",
          "name": "stdout",
          "text": [
            "--------------------------------------\n",
            "[4.07, 4.17]\n",
            "['2561/2', '2562/1']\n"
          ]
        },
        {
          "output_type": "display_data",
          "data": {
            "image/png": "[encoded data removed]",
            "text/plain": [
              "<Figure size 432x288 with 1 Axes>"
            ]
          },
          "metadata": {
            "needs_background": "light"
          }
        }
      ]
    },
    {
      "cell_type": "code",
      "metadata": {
        "id": "beOwnV2aL5b8",
        "colab": {
          "base_uri": "https://localhost:8080/",
          "height": 851
        },
        "outputId": "c70bc61d-11c4-4d5b-ced4-8cac87e686aa"
      },
      "source": [
        "\n",
        "# ในหนึ่งปีการศึกษามีวิชาใดได้รับการประเมินสูง\n",
        "xbarnormal = []\n",
        "joinn = []\n",
        "for i in range(len(html_url)):\n",
        "    if len(data[1][i][4][1]) < 17: \n",
        "        joinn.append([(data[0][i][2][1]).split(\"/\")[::-1],(data[0][i][0][1]),(data[1][i][-1][-2])]) ##เลือกเฉพาะอันที่ประเมินแบบปรกติ\n",
        "\n",
        "    else:\n",
        "        pass\n",
        "for a in range(len(joinn)):\n",
        "    xbarnormal.append([\"/\".join(joinn[a][0]),joinn[a][1],joinn[a][2]]) ##การ รวมของปีและเทอมการศึกษา ชื่อวิชา และ x-bar\n",
        "# print(sorted(xbarnormal))       \n",
        "        \n",
        "\n",
        "xx1 = []   ##การเลือกเก็บข้อมูลของชื่อวิชา แต่ละปีการศึกษา\n",
        "xx2 = []\n",
        "xx3 = []\n",
        "for i in range(len(xbarnormal)):\n",
        "    if xbarnormal[i][0] == \"2561/2\":\n",
        "        xx1.append(xbarnormal[i][1])\n",
        "    elif xbarnormal[i][0] == \"2562/1\":\n",
        "        xx2.append(xbarnormal[i][1])\n",
        "    elif xbarnormal[i][0] == \"2563/1\":\n",
        "        xx3.append(xbarnormal[i][1])\n",
        "# print(xx1,xx2,xx3)\n",
        "\n",
        "yy1 = [] ##การเลือกเก็บข้อมูลของx-bar แต่ละปีการศึกษา\n",
        "yy2 = []\n",
        "yy3 = []\n",
        "for i in range(len(xbarnormal)):\n",
        "    if xbarnormal[i][0] == \"2561/2\":\n",
        "        yy1.append(xbarnormal[i][2])\n",
        "    elif xbarnormal[i][0] == \"2562/1\":\n",
        "        yy2.append(xbarnormal[i][2])\n",
        "    elif xbarnormal[i][0] == \"2563/1\":\n",
        "        yy3.append(xbarnormal[i][2])\n",
        "# print(yy1,yy2,yy3)\n",
        "\n",
        "op = []\n",
        "for b in range(len(yy1)):\n",
        "    op.append(float(yy1[b])) ##เก็บข้อมูลของx-bar ให้เป็น float\n",
        "    \n",
        "   \n",
        "x25612=np.array(xx1)  ##เนื่องจากmatplotlibต้องใช้ชุดเลขarray จึงต้องเปลี่ยน listให้กลายเป็น arrayเสียก่อน\n",
        "y25612=np.array(op)\n",
        "\n",
        "plt.bar(x25612,y25612,color=\"#FFCC00\")  ##เป็นส่วนของการสร้างกราฟแท่ง ของปี2561/2\n",
        "plt.xlabel(\"subject\")\n",
        "plt.ylabel(\"x-bar\")\n",
        "plt.title(\"term 2561/2\")\n",
        "plt.show()\n",
        "\n",
        "op2 = []\n",
        "for b in range(len(yy2)):\n",
        "    op2.append(float(yy2[b]))\n",
        "\n",
        "x25621=np.array(xx2)\n",
        "y25621=np.array(op2)\n",
        "\n",
        "plt.bar(x25621,y25621,color=\"#FA8072\")  ##เป็นส่วนของการสร้างกราฟแท่งของปี2562/1\n",
        "plt.xlabel(\"subject\")\n",
        "plt.ylabel(\"x-bar\")\n",
        "plt.title(\"term 2562/1\")\n",
        "plt.show()\n",
        "\n",
        "op3 = []\n",
        "for b in range(len(yy3)):\n",
        "    op3.append(float(yy3[b]))\n",
        "\n",
        "x25631=np.array(xx3) ##เนื่องจากmatplotlibต้องใช้ชุดเลขarray จึงต้องเปลี่ยน listให้กลายเป็น arrayเสียก่อน\n",
        "y25631=np.array(op3)\n",
        "\n",
        "plt.bar(x25631,y25631,color=\"#B22222\")  ##เป็นส่วนของการสร้างกราฟแท่งของปี2563/1\n",
        "plt.xlabel(\"subject\")\n",
        "plt.ylabel(\"x-bar\")\n",
        "plt.title(\"term 2563/1\")\n",
        "plt.show()\n",
        "    \n"
      ],
      "execution_count": null,
      "outputs": [
        {
          "output_type": "display_data",
          "data": {
            "image/png": "[encoded data removed]",
            "text/plain": [
              "<Figure size 432x288 with 1 Axes>"
            ]
          },
          "metadata": {
            "needs_background": "light"
          }
        },
        {
          "output_type": "display_data",
          "data": {
            "image/png": "[encoded data removed]",
            "text/plain": [
              "<Figure size 432x288 with 1 Axes>"
            ]
          },
          "metadata": {
            "needs_background": "light"
          }
        },
        {
          "output_type": "display_data",
          "data": {
            "image/png": "[encoded data removed]",
            "text/plain": [
              "<Figure size 432x288 with 1 Axes>"
            ]
          },
          "metadata": {
            "needs_background": "light"
          }
        }
      ]
    },
    {
      "cell_type": "markdown",
      "metadata": {
        "id": "D-ZUx5lf_tm6"
      },
      "source": [
        "4.ในแต่ละวิชามีความเตรียมพร้อมในการรับมือกับรูปแบบการสอนในช่วง Covid \n",
        "มาก-น้อยเพียงใด"
      ]
    },
    {
      "cell_type": "code",
      "metadata": {
        "id": "sajUCIskPdKd",
        "colab": {
          "base_uri": "https://localhost:8080/"
        },
        "outputId": "6f030c76-34c7-4f00-a3b2-6ebe255a7190"
      },
      "source": [
        "#เนื่องจากไม่ใช่ทุกวิชาที่จะสามารถนำมาใช้เปรียบเทียบกันในหัวข้อนี้ได้ ต้องเป็นวิชาที่มีการประเมินแบบปรกติ และมีการประเมินแบบcovid ถึงจะสามารถอยู่ในlistนี้ได้\n",
        "\n",
        "datanormal = []\n",
        "datacovid = []\n",
        "\n",
        "for i in range(len(html_url)):  ##ขั้นตอนการหาว่ามีวิชาไหนมีแบบประเมินแบบปรกติและแบบcovidซ้ำบ้าง\n",
        "    if len(data[1][i][4][1]) < 17: \n",
        "        datanormal.append([(data[0][i][0][1]),(data[1][i][-1][-2])])\n",
        "    else:\n",
        "        datacovid.append([(data[0][i][0][1]),(data[1][i][12][-2])])\n",
        "print('normal')\n",
        "for i in sorted(datanormal):\n",
        "    print(i)\n",
        "print('covid')\n",
        "for i in sorted(datacovid):\n",
        "    print(i)\n",
        "\n",
        "    \n",
        "subjectcanuse = []\n",
        "subject_can_use = []\n",
        "\n",
        "\n",
        "for i in range(len(datanormal)):    \n",
        "    for j in range(len(datacovid)):\n",
        "        if datanormal[i][0] == datacovid[j][0]:  ##ถ้าหากว่ามีซ้ำกันแล้วจะดึงเฉพาะตัวที่ซ้ำกันมาเท่านั้น\n",
        "            subject_can_use.append(datanormal[i][0])\n",
        "        \n",
        "\n",
        "print(\"subject can use\",list(dict.fromkeys(subject_can_use))) ##การพิมพ์เฉพาะตัวที่ถูกซ้ำ\n"
      ],
      "execution_count": null,
      "outputs": [
        {
          "output_type": "stream",
          "name": "stdout",
          "text": [
            "normal\n",
            "['bbdfmowkmw', '4.19']\n",
            "['eguuthmvfq', '4.09']\n",
            "['ifryvhdgto', '4.45']\n",
            "['liprvrawzt', '4.35']\n",
            "['nxwvugfpvk', '4.07']\n",
            "['nxwvugfpvk', '4.17']\n",
            "['ryoivricfq', '3.81']\n",
            "['ryoivricfq', '4.04']\n",
            "['ryoivricfq', '4.44']\n",
            "['tqkcxncfqb', '4.42']\n",
            "['tqkcxncfqb', '4.58']\n",
            "covid\n",
            "['bbdfmowkmw', '4.15']\n",
            "['bbdfmowkmw', '4.25']\n",
            "['bbdfmowkmw', '4.35']\n",
            "['bbdfmowkmw', '4.60']\n",
            "['ifryvhdgto', '4.52']\n",
            "['nxwvugfpvk', '3.52']\n",
            "['nxwvugfpvk', '4.48']\n",
            "['thwqmxkbbs', '4.38']\n",
            "subject can use ['bbdfmowkmw', 'nxwvugfpvk', 'ifryvhdgto']\n"
          ]
        }
      ]
    },
    {
      "cell_type": "code",
      "metadata": {
        "id": "GM61dKPrwVci",
        "colab": {
          "base_uri": "https://localhost:8080/",
          "height": 503
        },
        "outputId": "60e8233a-2602-464c-b493-9d7be2dcc3d1"
      },
      "source": [
        "\n",
        "##การหาว่าวิชาไหนรับมือเกี่ยวกับสถานการณ์covid ได้ดีที่สุดคือ การนำx-bar ก่อนที่จะมีการประเมินแบบcovid มาหาผลต่างกัน \n",
        "\n",
        "data_nxw = []  #nxw\n",
        "covid_data_nxw = []\n",
        "nm_data_nxw = []\n",
        "result_nxw = []\n",
        "name_nxw = []\n",
        "for i in range(len(html_url)):\n",
        "    if data[0][i][0][1] == \"nxwvugfpvk\" :  ##การคัดเฉพาะวิชาnxwvugfpvk\n",
        "        data_nxw.append([data[0][i][0][1],data[1][i][4][1],data[1][i][-1][-2]]) ##ดึงชื่อวิชา และส่วนแบ่งว่าเป็นแบบประเมินแบบไหน และ x-bar มาจากเฉพาะวิชาnxwvugfpvk\n",
        "        name_nxw.append(data[0][i][0][1])\n",
        "\n",
        "# print(data_nxw)        \n",
        "for a in range(len(data_nxw)):\n",
        "    if len(data_nxw[a][1]) > 17: \n",
        "        covid_data_nxw.append(float(data_nxw[a][2])) ##การดึงข้อมูล x-bar ในการประเมิน covid เป็น float เพื่อที่จะพลอตกราฟได้\n",
        "    else :\n",
        "        nm_data_nxw.append(float(data_nxw[a][2])) ##การดึงข้อมูล x-bar ในการประเมิน ปรกติ เป็น float เพื่อที่จะพลอตกราฟได้\n",
        "result_nxw = sum(covid_data_nxw)/len(covid_data_nxw)-sum(nm_data_nxw)/len(nm_data_nxw) ##เป็นการหาผลต่างระหว่างแบบประเมินที่เป็นแบบปรกติและแบบ covid โดยใช้สูตร ผลรวมข้อมูลcovid/จำนวน - ผลรวมข้อมูลปรกติ/จำนวน\n",
        "print(\"--------------\")\n",
        "print(list(dict.fromkeys(name_nxw)))\n",
        "print(\"%.3f\" %result_nxw) #nxw\n",
        "\n",
        "\n",
        "data_bbd = []  #bbd เหมือนกับส่วนของด้านบนแต่เป็นรายวิชา bbdfmowkmw\n",
        "covid_data_bbd = []\n",
        "nm_data_bbd = []\n",
        "result_bbd = [] \n",
        "name_bbd = []\n",
        "for i in range(len(html_url)):\n",
        "    if data[0][i][0][1] == \"bbdfmowkmw\" : \n",
        "        data_bbd.append([data[0][i][0][1],data[1][i][4][1],data[1][i][-1][-2]])\n",
        "        name_bbd.append(data[0][i][0][1])\n",
        "        \n",
        "# print(data_bbd)        \n",
        "for a in range(len(data_bbd)):\n",
        "    if len(data_bbd[a][1]) > 17: \n",
        "        covid_data_bbd.append(float(data_bbd[a][2]))\n",
        "    else :\n",
        "        nm_data_bbd.append(float(data_bbd[a][2]))\n",
        "result_bbd = sum(covid_data_bbd)/len(covid_data_bbd)-sum(nm_data_bbd)/len(nm_data_bbd)\n",
        "print(\"--------------\")\n",
        "print(list(dict.fromkeys(name_bbd)))\n",
        "print(\"%.3f\" %result_bbd) #bbd   \n",
        "\n",
        "\n",
        "data_ifr = []  #ifr เหมือนกับส่วนของด้านบนแต่เป็นรายวิชา ifryvhdgto\n",
        "covid_data_ifr = []\n",
        "nm_data_ifr = []\n",
        "result_ifr = [] \n",
        "name_ifr = []\n",
        "for i in range(len(html_url)):\n",
        "    if data[0][i][0][1] == \"ifryvhdgto\" : \n",
        "        data_ifr.append([data[0][i][0][1],data[1][i][4][1],data[1][i][-1][-2]])\n",
        "        name_ifr.append(data[0][i][0][1])\n",
        "# print(data_ifr)        \n",
        "for a in range(len(data_ifr)):\n",
        "    if len(data_ifr[a][1]) > 17: \n",
        "        covid_data_ifr.append(float(data_ifr[a][2]))\n",
        "    else :\n",
        "        nm_data_ifr.append(float(data_ifr[a][2]))\n",
        "result_ifr = sum(covid_data_ifr)/len(covid_data_ifr)-sum(nm_data_ifr)/len(nm_data_ifr)\n",
        "print(\"--------------\")\n",
        "print(list(dict.fromkeys(name_ifr)))\n",
        "print(\"%.3f\" %result_ifr) #ifr   \n",
        "print(\"------------------------------------\")\n",
        "\n",
        "yy = []\n",
        "all_name = []\n",
        "xx = []\n",
        "\n",
        "all_name = name_nxw+name_bbd+name_ifr ##เนื่องจากข้อมูลตอนนี้แยกlist กันอยู่ เราจึงต้องรวมให้มันอยู่list เดียวกันเพื่อให้พลอตกราฟได้\n",
        "xx=list(dict.fromkeys(all_name))\n",
        "print(xx)\n",
        "\n",
        "\n",
        "yy.append(float(\"%.3f\" %result_nxw)) ##เปลี่ยนจากlist ให้เป็นfloat ทศนิยม 3 ตำแหน่ง\n",
        "yy.append(float(\"%.3f\" %result_bbd))\n",
        "yy.append(float(\"%.3f\" %result_ifr))\n",
        "print(yy)\n",
        "\n",
        "\n",
        "x=np.array(xx) ##เนื่องจากmatplotlibต้องใช้ชุดเลขarray จึงต้องเปลี่ยน listให้กลายเป็น arrayเสียก่อน\n",
        "y=np.array(yy)\n",
        "\n",
        "plt.bar(x,y,color=\"#98FB98\") #ขั้นตอนการพบลอตกราฟ\n",
        "plt.xlabel(\"subject\")\n",
        "plt.ylabel(\"differrent x-bar\")\n",
        "plt.title(\"The best handler during Covid-19\")\n",
        "plt.show()\n"
      ],
      "execution_count": null,
      "outputs": [
        {
          "output_type": "stream",
          "name": "stdout",
          "text": [
            "--------------\n",
            "['nxwvugfpvk']\n",
            "-0.120\n",
            "--------------\n",
            "['bbdfmowkmw']\n",
            "0.147\n",
            "--------------\n",
            "['ifryvhdgto']\n",
            "0.070\n",
            "------------------------------------\n",
            "['nxwvugfpvk', 'bbdfmowkmw', 'ifryvhdgto']\n",
            "[-0.12, 0.147, 0.07]\n"
          ]
        },
        {
          "output_type": "display_data",
          "data": {
            "image/png": "[encoded data removed]",
            "text/plain": [
              "<Figure size 432x288 with 1 Axes>"
            ]
          },
          "metadata": {
            "needs_background": "light"
          }
        }
      ]
    },
    {
      "cell_type": "markdown",
      "metadata": {
        "id": "QyK0IsgXqsfC"
      },
      "source": [
        "สรุป\n",
        "\n",
        "จากการนำข้อมูลมา Coding และ Visualization พบข้อมูลที่น่าสนใจหลายอย่าง อย่างแรกคือ ข้อมูลความสนใจในการทำแบบประเมินของนักศึกษา นั้นสามารถบ่งบอกได้ถึงความสนใจในการเรียนเพราะ ส่วนใหญ่แล้วยิ่งมีจำนวนของนักศึกษาที่ลงเรียนวิชานั้นมากคะแนนเฉลี่ย และจำนวนของนักศึกษาที่ลงทะเบียนก็จะเพิ่มมากขึ้นเช่นกัน อย่างที่สองคือการนำคะแนนของ x-bar ที่มาการทำแบบประเมินในสถานการณ์ปกติมาเปรียบเทียบกันในแต่ละรายวิชาเป็นปีต่อปี ผลที่ได้คือ วิชา ryo เป็นวิชาที่มีทิศทางการเติบโตไปในทิศทางที่ดี เนื่องจากมีค่า x-bar ที่สูงขึ้นทุกภาคการศึกษาและ nxw เป็นวิชาที่มี x-bar สูงขึ้นนับตั้งแต่ปีแรกที่มีการประเมิน\n",
        "อย่างสุดท้ายคือในข้อมูลที่ได้มาจะมีบางวิชาที่ได้รับข้อมูลการศึกษาทั้งในสถานการณ์ปกติและสถานการณ์ที่มีการแพร่ระบาดของ Covid-19 เมื่อนำการประเมินทั้ง 2 สถานการณ์มาเปรียบเทียบกันพบว่าวิชา bbd เป็นวิชาที่มีการรับมือกับสถานการณ์ Covid-19 ได้ดีเนื่องจากมีคะแนนเฉลี่ยของ x-bar ที่สูงขึ้นทุกภาคการศึกษา แม้จะมีสถานการณ์ Covid-19 เข้ามาเอี่ยวเช่นเดียวกับ วิชา ifr แต่วิชานี้จะไม่ดีเท่ากับวิชา bbd  และสุดท้ายวิชา nxw เป็นวิชาที่มีการรับมือกับสถานการณ์ Covid-19 ที่แย่เนื่องจากมีคะแนนเฉลี่ย x-bar น้อยลงจากปีที่มีการเรียนการสอนแบบปกติ"
      ]
    }
  ]
}